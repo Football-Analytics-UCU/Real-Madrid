{
 "cells": [
  {
   "cell_type": "code",
   "execution_count": 45,
   "metadata": {},
   "outputs": [],
   "source": [
    "import requests\n",
    "from bs4 import BeautifulSoup"
   ]
  },
  {
   "cell_type": "code",
   "execution_count": 46,
   "metadata": {},
   "outputs": [],
   "source": [
    "response = requests.get(\n",
    "    'https://www.sofascore.com/shakhtar-donetsk-real-madrid/Egbsnqb#id:10640521',\n",
    "    headers={\n",
    "        'user-agent': 'Mozilla/5.0 (Windows NT 10.0; Win64; x64) AppleWebKit/537.36 (KHTML, like Gecko) Chrome/120.0.0.0 Safari/537.36'\n",
    "    }    \n",
    "    )"
   ]
  },
  {
   "cell_type": "code",
   "execution_count": 47,
   "metadata": {},
   "outputs": [],
   "source": [
    "soup = BeautifulSoup(response.text, 'html.parser')"
   ]
  },
  {
   "cell_type": "code",
   "execution_count": 48,
   "metadata": {},
   "outputs": [],
   "source": [
    "headers = {\n",
    "    'authority': 'api.sofascore.com',\n",
    "    'accept': '*/*',\n",
    "    'accept-language': 'uk,ru-RU;q=0.9,ru;q=0.8,en-US;q=0.7,en;q=0.6',\n",
    "    'cache-control': 'max-age=0',\n",
    "    'if-none-match': 'W/\"a6032310e5\"',\n",
    "    'origin': 'https://www.sofascore.com',\n",
    "    'referer': 'https://www.sofascore.com/',\n",
    "    'sec-ch-ua': '\"Not_A Brand\";v=\"8\", \"Chromium\";v=\"120\", \"Google Chrome\";v=\"120\"',\n",
    "    'sec-ch-ua-mobile': '?0',\n",
    "    'sec-ch-ua-platform': '\"Windows\"',\n",
    "    'sec-fetch-dest': 'empty',\n",
    "    'sec-fetch-mode': 'cors',\n",
    "    'sec-fetch-site': 'same-site',\n",
    "    'user-agent': 'Mozilla/5.0 (Windows NT 10.0; Win64; x64) AppleWebKit/537.36 (KHTML, like Gecko) Chrome/120.0.0.0 Safari/537.36',\n",
    "}\n",
    "headers['If-Modified-Since'] = 'Mon, 1 Jan 2024 00:00:00 GMT'\n",
    "response_shots = requests.get('https://api.sofascore.com/api/v1/event/10640521/shotmap', headers=headers)"
   ]
  },
  {
   "cell_type": "code",
   "execution_count": 49,
   "metadata": {},
   "outputs": [],
   "source": [
    "headers = {\n",
    "    'authority': 'api.sofascore.com',\n",
    "    'accept': '*/*',\n",
    "    'accept-language': 'uk,ru-RU;q=0.9,ru;q=0.8,en-US;q=0.7,en;q=0.6',\n",
    "    'cache-control': 'max-age=0',\n",
    "    'if-none-match': 'W/\"268b4d4fab\"',\n",
    "    'origin': 'https://www.sofascore.com',\n",
    "    'referer': 'https://www.sofascore.com/',\n",
    "    'sec-ch-ua': '\"Not_A Brand\";v=\"8\", \"Chromium\";v=\"120\", \"Google Chrome\";v=\"120\"',\n",
    "    'sec-ch-ua-mobile': '?0',\n",
    "    'sec-ch-ua-platform': '\"Windows\"',\n",
    "    'sec-fetch-dest': 'empty',\n",
    "    'sec-fetch-mode': 'cors',\n",
    "    'sec-fetch-site': 'same-site',\n",
    "    'user-agent': 'Mozilla/5.0 (Windows NT 10.0; Win64; x64) AppleWebKit/537.36 (KHTML, like Gecko) Chrome/120.0.0.0 Safari/537.36',\n",
    "}\n",
    "headers['If-Modified-Since'] = 'Mon, 1 Jan 2024 00:00:00 GMT'\n",
    "response_statistics = requests.get('https://api.sofascore.com/api/v1/event/10640521/statistics', headers=headers)"
   ]
  },
  {
   "cell_type": "code",
   "execution_count": 50,
   "metadata": {},
   "outputs": [],
   "source": [
    "headers = {\n",
    "    'authority': 'api.sofascore.com',\n",
    "    'accept': '*/*',\n",
    "    'accept-language': 'uk,ru-RU;q=0.9,ru;q=0.8,en-US;q=0.7,en;q=0.6',\n",
    "    'cache-control': 'max-age=0',\n",
    "    'if-none-match': 'W/\"2528aac3b0\"',\n",
    "    'origin': 'https://www.sofascore.com',\n",
    "    'referer': 'https://www.sofascore.com/',\n",
    "    'sec-ch-ua': '\"Not_A Brand\";v=\"8\", \"Chromium\";v=\"120\", \"Google Chrome\";v=\"120\"',\n",
    "    'sec-ch-ua-mobile': '?0',\n",
    "    'sec-ch-ua-platform': '\"Windows\"',\n",
    "    'sec-fetch-dest': 'empty',\n",
    "    'sec-fetch-mode': 'cors',\n",
    "    'sec-fetch-site': 'same-site',\n",
    "    'user-agent': 'Mozilla/5.0 (Windows NT 10.0; Win64; x64) AppleWebKit/537.36 (KHTML, like Gecko) Chrome/120.0.0.0 Safari/537.36',\n",
    "}\n",
    "headers['If-Modified-Since'] = 'Mon, 1 Jan 2024 00:00:00 GMT'\n",
    "response_history = requests.get('https://api.sofascore.com/api/v1/event/10640521/pregame-form', headers=headers)\n"
   ]
  },
  {
   "cell_type": "code",
   "execution_count": 51,
   "metadata": {},
   "outputs": [],
   "source": [
    "shots = response_shots.json()\n",
    "statistics = response_statistics.json()\n",
    "history = response_history.json()"
   ]
  },
  {
   "cell_type": "code",
   "execution_count": 52,
   "metadata": {},
   "outputs": [
    {
     "name": "stdout",
     "output_type": "stream",
     "text": [
      "Expected goals\n",
      "Ball possession\n",
      "Total shots\n",
      "Shots on target\n",
      "Shots off target\n",
      "Blocked shots\n",
      "Corner kicks\n",
      "Offsides\n",
      "Fouls\n",
      "Yellow cards\n",
      "Free kicks\n",
      "Throw-ins\n",
      "Goal kicks\n",
      "Big chances\n",
      "Big chances missed\n",
      "Hit woodwork\n",
      "Shots inside box\n",
      "Shots outside box\n",
      "Goalkeeper saves\n",
      "Goals prevented\n",
      "Passes\n",
      "Accurate passes\n",
      "Long balls\n",
      "Crosses\n",
      "Dribbles\n",
      "Possession lost\n",
      "Duels won\n",
      "Aerials won\n",
      "Tackles\n",
      "Interceptions\n",
      "Clearances\n"
     ]
    }
   ],
   "source": [
    "for group in statistics['statistics'][0]['groups']:\n",
    "    for name in group['statisticsItems']:\n",
    "        print(name['name'])"
   ]
  },
  {
   "cell_type": "code",
   "execution_count": 68,
   "metadata": {},
   "outputs": [
    {
     "name": "stdout",
     "output_type": "stream",
     "text": [
      "Antonio Rüdiger xg:0.075141221284866 minute:95\n",
      "Antonio Rüdiger xg:0.022953242063522 minute:92\n",
      "Vinícius Júnior xg:0.28989055752754 minute:87\n",
      "Vinícius Júnior xg:0.045026302337646 minute:86\n",
      "Toni Kroos xg:0.037856757640839 minute:73\n",
      "Mykhaylo Mudryk xg:0.044584542512894 minute:71\n",
      "Bogdan Mykhaylichenko xg:0.024543672800064 minute:69\n",
      "Oleksandr Zubkov xg:0.039063066244125 minute:68\n",
      "Oleksandr Zubkov xg:0.030142158269882 minute:67\n",
      "Lassina Traoré xg:0.034102857112885 minute:65\n",
      "Ferland Mendy xg:0.034270137548447 minute:60\n",
      "Bogdan Mykhaylichenko xg:0.0050080716609955 minute:56\n",
      "Karim Benzema xg:0.15427082777023 minute:51\n",
      "Aurélien Tchouaméni xg:0.074375957250595 minute:48\n",
      "Oleksandr Zubkov xg:0.1789498925209 minute:46\n",
      "Oleksandr Zubkov xg:0.030213683843613 minute:44\n",
      "Karim Benzema xg:0.057608276605606 minute:42\n",
      "Federico Valverde xg:0.024813234806061 minute:41\n",
      "Rodrygo xg:0.13307172060013 minute:36\n",
      "Karim Benzema xg:0.026820152997971 minute:36\n",
      "Bogdan Mykhaylichenko xg:0.035518437623978 minute:35\n",
      "Toni Kroos xg:0.019995719194412 minute:29\n",
      "Oleksandr Zubkov xg:0.081678539514542 minute:27\n",
      "Federico Valverde xg:0.027434676885605 minute:21\n",
      "Karim Benzema xg:0.032306432723999 minute:18\n",
      "Toni Kroos xg:0.014598876237869 minute:10\n",
      "Antonio Rüdiger xg:0.010085314512253 minute:10\n",
      "Georgiy Sudakov xg:0.030851602554321 minute:3\n"
     ]
    }
   ],
   "source": [
    "for shot in shots['shotmap']:\n",
    "    print(str(shot['player']['name']) + ' xg:' + str(shot['xg']) + ' minute:' + str(int(shot['timeSeconds']/60)+1))"
   ]
  },
  {
   "cell_type": "code",
   "execution_count": null,
   "metadata": {},
   "outputs": [],
   "source": []
  },
  {
   "cell_type": "code",
   "execution_count": 54,
   "metadata": {},
   "outputs": [],
   "source": [
    "import json\n",
    "with open('./data/history.json', 'w') as f:\n",
    "    json.dump(history, f)"
   ]
  },
  {
   "cell_type": "code",
   "execution_count": 55,
   "metadata": {},
   "outputs": [],
   "source": [
    "import json\n",
    "with open('./data/shots.json', 'w') as f:\n",
    "    json.dump(shots, f)"
   ]
  },
  {
   "cell_type": "code",
   "execution_count": 56,
   "metadata": {},
   "outputs": [],
   "source": [
    "import json\n",
    "with open('./data/statistics.json', 'w') as f:\n",
    "    json.dump(statistics, f)"
   ]
  }
 ],
 "metadata": {
  "kernelspec": {
   "display_name": "Python 3",
   "language": "python",
   "name": "python3"
  },
  "language_info": {
   "codemirror_mode": {
    "name": "ipython",
    "version": 3
   },
   "file_extension": ".py",
   "mimetype": "text/x-python",
   "name": "python",
   "nbconvert_exporter": "python",
   "pygments_lexer": "ipython3",
   "version": "3.11.4"
  }
 },
 "nbformat": 4,
 "nbformat_minor": 2
}
