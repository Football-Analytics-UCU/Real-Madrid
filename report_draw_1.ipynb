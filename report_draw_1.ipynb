{
 "cells": [
  {
   "cell_type": "markdown",
   "metadata": {},
   "source": [
    "## Table of contents\n",
    "1. * [Introduction](#Introduction)\n",
    "2. * [Used libraries and data sources](#Used-libraries-and-data-sources)\n",
    "    - [Libraries](#Libraries)\n",
    "    - [Data sources](#Data-sources)\n",
    "3. * [History and match preview](#History-and-match-preview)\n",
    "    - [History](#History)\n",
    "    - [Match preview](#Match-preview)\n",
    "4. * [Match analysis](#Match-analysis)    \n",
    "    - [Matches](#Matches)\n",
    "5. * [Conclusion](#Conclusion)\n",
    "    - [What did we learn](#What-did-we-learn)\n",
    "6. * [Resources](#Resources)"
   ]
  },
  {
   "cell_type": "markdown",
   "metadata": {},
   "source": [
    "## Introduction\n",
    "[go back to the top](#Table-of-contents)\n",
    "\n",
    "In this notebook, we used differnt approaches how to analyse data related to football(soccer) which have learnt in Football Analytics course. This course was provided by Roman Kyrychenko - Data Analitics engineer and lecturer in UCU(University based on Lviv, Ukraine). Our team(10 peoples) had to invastigate Real Madrid team. Our task was to analyse certain football(soccer) match on our own choice. We have chosen the El Classico, La Liga(Barcelona vs. Real Madrid match) - Date: 28/10/2023 - one of the most excpected batle every year in the world. Even Asian peoples could spectate this match in convenient time (15:15 - by Central European Time)."
   ]
  },
  {
   "cell_type": "markdown",
   "metadata": {},
   "source": [
    "## Used libraries and data sources\n",
    "[go back to the top](#Table-of-contents)\n",
    "\n",
    "__This part of the report Will be complete in future__"
   ]
  },
  {
   "cell_type": "markdown",
   "metadata": {},
   "source": [
    "## History and match preview\n",
    "[go back to the top](#Table-of-contents)\n",
    "\n",
    "### History\n",
    "\n",
    "[See code:](https://github.com/Football-Analytics-UCU/Real-Madrid/blob/main/src/kondakov/transfermarkt_history.ipynb)\n",
    "\n",
    "<div style=\"margin-bottom: 20px;\">\n",
    "  <div style=\"margin-bottom: 10px;\">Throughout history, 254 El Clasico have been played. Real Madrid won 103 times, FC Barcelona 100 times and there were 51 draws:</div>\n",
    "  <div><img src=\"images/1_block/1.png\" width=\"400px\"></div>\n",
    "</div>\n",
    "<div style=\"margin-bottom: 20px;\">\n",
    "  <div style=\"margin-bottom: 10px;\">Particularly in LaLiga Real Madrid won 77 times, FC Barcelona 74 times and there were 35 draws:</div>\n",
    "  <img src=\"images/1_block/2.png\" width=\"400px\">\n",
    "</div>\n",
    "<div>\n",
    "  <div style=\"margin-bottom: 10px;\">Barcelona vs Real - previous 6 official matches:</div>\n",
    "  <img src=\"images/1_block/3a.jpg\" width=\"500px\">\n",
    "</div>"
   ]
  },
  {
   "cell_type": "markdown",
   "metadata": {},
   "source": [
    "### Match preview\n",
    "\n",
    "[See code:](https://github.com/Football-Analytics-UCU/Real-Madrid/blob/main/src/patenko/la_liga_season23-24_history.ipynb)\n",
    "\n",
    "Next charts show how successful were both teams in this season 2023/24 in La Liga before El Classico:\n",
    "\n",
    "<style>\n",
    "  .item1 { grid-area: barca_text; }\n",
    "  .item2 { grid-area: barca_img; }\n",
    "  .item3 { grid-area: barca_soccerbar; } \n",
    "  .item4 { grid-area: real_soccerbar; }\n",
    "  .item5 { grid-area: real_img; }\n",
    "  .item6 { grid-area: real_text; }\n",
    "  .item7 { grid-area: barca_results; }\n",
    "  .item8 { grid-area: real_results; }\n",
    "   \n",
    "\n",
    "  .grid-container {\n",
    "    display: grid;\n",
    "    grid-template-areas:\n",
    "      'barca_text barca_img barca_soccerbar real_soccerbar real_img real_text';\n",
    "    gap: 10px;\n",
    "    background-color: transparent;\n",
    "    padding: 10px;\n",
    "  }\n",
    "\n",
    "  .grid-container > div {\n",
    "    background-color: transparent;\n",
    "    text-align: center;\n",
    "    padding: 20px 0;\n",
    "    font-size: 30px;\n",
    "  }\n",
    "  .grid-container-2 {\n",
    "    display: grid;\n",
    "    grid-template-areas:\n",
    "      'barca_results real_results';\n",
    "    gap: 10px;\n",
    "    background-color: transparent;\n",
    "    padding: 10px;\n",
    "  }\n",
    "</style>\n",
    "\n",
    "<div class=\"grid-container\">\n",
    "  <div class=\"item1\">Barcelona</div>\n",
    "  <div class=\"item2\"><img src=\"images/logos/barca.png\"></div> \n",
    "  <div class=\"item3\"><img src=\"images/2_block/Barcelona_soccerbar.png\" width=\"100\"></div> \n",
    "  <div class=\"item4\"><img src=\"images/2_block/Real_soccerbar.png\"width=\"100\"></div>\n",
    "  <div class=\"item5\"><img src=\"images/logos/real.png\"></div> \n",
    "  <div class=\"item6\">Real Madrid</div>  \n",
    "</div>\n",
    "  \n",
    "<div class=\"grid-container-2\">\n",
    "  <div class=\"item7\"><img src=\"images/2_block/season_results_barca.png\" width=\"350\"></div> \n",
    "  <div class=\"item8\"><img src=\"images/2_block/season_results_real.png\"width=\"350\"></div>\n",
    "</div>\n",
    "\n",
    "\n"
   ]
  },
  {
   "attachments": {
    "1.png": {
     "image/png": "[encoded data removed]"
    }
   },
   "cell_type": "markdown",
   "metadata": {},
   "source": [
    "![1.png](attachment:1.png)"
   ]
  }
 ],
 "metadata": {
  "kernelspec": {
   "display_name": "Python 3",
   "language": "python",
   "name": "python3"
  },
  "language_info": {
   "codemirror_mode": {
    "name": "ipython",
    "version": 3
   },
   "file_extension": ".py",
   "mimetype": "text/x-python",
   "name": "python",
   "nbconvert_exporter": "python",
   "pygments_lexer": "ipython3",
   "version": "3.10.11"
  }
 },
 "nbformat": 4,
 "nbformat_minor": 2
}
