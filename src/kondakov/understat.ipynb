{
 "nbformat": 4,
 "nbformat_minor": 0,
 "metadata": {
  "colab": {
   "provenance": []
  },
  "kernelspec": {
   "name": "python3",
   "display_name": "Python 3"
  },
  "language_info": {
   "name": "python"
  }
 },
 "cells": [
  {
   "cell_type": "code",
   "execution_count": 4,
   "metadata": {
    "id": "QIBj6vHpw9E0"
   },
   "outputs": [],
   "source": [
    "import aiohttp\n",
    "from understat import Understat\n",
    "import pandas as pd"
   ]
  },
  {
   "cell_type": "code",
   "outputs": [],
   "source": [
    "season_results = pd.read_csv(\"src/patenko/data/BAR_RMA_2023_understat/season_results.csv\")\n",
    "\n",
    "# Get the match IDs for previous matches of clubs before an El Clasico\n",
    "real_prev_matches = season_results[((season_results['h.title'] == 'Real Madrid') | (season_results['a.title'] == 'Real Madrid')) & (season_results['datetime'] < '2023-10-28')]['id'].tolist()\n",
    "barcelona_prev_matches = season_results[((season_results['h.title'] == 'Barcelona') | (season_results['a.title'] == 'Barcelona')) & (season_results['datetime'] < '2023-10-28')]['id'].tolist()\n",
    "teams_prev_matches = real_prev_matches + barcelona_prev_matches"
   ],
   "metadata": {
    "collapsed": false
   }
  },
  {
   "cell_type": "code",
   "source": [
    "teams_shots = pd.DataFrame(columns = ['match_id', 'minute', 'result', 'xG', 'player', 'RB_team', 'against_team'])\n",
    "against_shots = pd.DataFrame(columns = ['match_id', 'minute', 'result', 'xG', 'player', 'RB_team', 'against_team'])\n",
    "\n",
    "# Asynchronously fetch match shots data using the Understat API\n",
    "async with aiohttp.ClientSession() as session:\n",
    "  understat = Understat(session)\n",
    "  # Iterate through each match ID in the list of previous matches for teams\n",
    "  for match_id in teams_prev_matches:\n",
    "    # Fetch shots data for the current match\n",
    "    shots = await understat.get_match_shots(match_id)\n",
    "    # Iterate through each team's shots in the match\n",
    "    for teams in shots.values():\n",
    "      # Iterate through each player's shots in the team\n",
    "      for players in teams:\n",
    "        # Check if the player is from one of the specified teams (Real Madrid or Barcelona)\n",
    "        if (players['h_a'] == 'h') and (players['h_team'] in ('Real Madrid', 'Barcelona')) or (players['h_a'] == 'a') and (players['a_team'] in ('Real Madrid', 'Barcelona')):\n",
    "           # Add a row to the teams_shots DataFrame for shots by the specified team\n",
    "           teams_shots.loc[len(teams_shots)] = [players['match_id'],\n",
    "                                                players['minute'],\n",
    "                                                players['result'],\n",
    "                                                players['xG'],\n",
    "                                                players['player'],\n",
    "                                                players['h_team'] if players['h_a'] == 'h' else players['a_team'],\n",
    "                                                players['a_team'] if players['h_a'] == 'h' else players['h_team']]\n",
    "        else:\n",
    "          # Add a row to the against_shots DataFrame for shots against the specified team\n",
    "          against_shots.loc[len(against_shots)] = [players['match_id'],\n",
    "                                                       players['minute'],\n",
    "                                                       players['result'],\n",
    "                                                       players['xG'],\n",
    "                                                       players['player'],\n",
    "                                                       players['a_team'] if players['h_a'] == 'h' else players['h_team'],\n",
    "                                                       players['h_team'] if players['h_a'] == 'h' else players['a_team']]"
   ],
   "metadata": {
    "id": "Yg2T7UBYx_9v"
   },
   "execution_count": 53,
   "outputs": []
  },
  {
   "cell_type": "code",
   "source": [
    "teams_shots.to_csv(\"src/kondakov/data/understat\")\n",
    "against_shots.to_csv(\"src/kondakov/data/understat\")"
   ],
   "metadata": {
    "id": "WiW-nkZoHrZx"
   },
   "execution_count": 56,
   "outputs": []
  }
 ]
}
