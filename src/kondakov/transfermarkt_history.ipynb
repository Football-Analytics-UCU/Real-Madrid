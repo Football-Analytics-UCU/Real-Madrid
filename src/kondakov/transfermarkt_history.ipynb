{
 "cells": [
  {
   "cell_type": "markdown",
   "source": [
    "This notebook is for scraping historical El Clasicos statistics"
   ],
   "metadata": {
    "collapsed": false
   },
   "id": "9624471e8e3cfe51"
  },
  {
   "cell_type": "code",
   "execution_count": 41,
   "id": "initial_id",
   "metadata": {
    "collapsed": true,
    "ExecuteTime": {
     "end_time": "2024-01-21T22:32:33.537247Z",
     "start_time": "2024-01-21T22:32:33.531880Z"
    }
   },
   "outputs": [],
   "source": [
    "import requests\n",
    "from bs4 import BeautifulSoup\n",
    "import pandas as pd"
   ]
  },
  {
   "cell_type": "code",
   "outputs": [],
   "source": [
    "# URL for table with all El Clasicos main info: \"Competition\", \"Matchday\", \"Date\", \"Home team\", \"Away team”, \"Result\"\n",
    "url = 'https://www.transfermarkt.com/vergleich/vereineBegegnungen/statistik/131_418'\n",
    "\n",
    "headers = {\n",
    "    \"user-agent\": \"Mozilla/5.0 (Macintosh; Intel Mac OS X 10_15_7) AppleWebKit/537.36 (KHTML, like Gecko) Chrome/120.0.0.0 Safari/537.36\"\n",
    "}\n",
    "\n",
    "# Fetch HTML content from the URL\n",
    "response = requests.get(url, headers=headers)\n",
    "html = response.text\n",
    "\n",
    "# Parse HTML\n",
    "soup = BeautifulSoup(html, 'html.parser')\n",
    "rows = soup.select('tbody tr')[:-1]\n",
    "\n",
    "# Extract data from the table\n",
    "data = []\n",
    "for row in rows:\n",
    "    match_id = row.select_one('td:nth-of-type(13)').find('a')['id']\n",
    "    competition = row.select_one('td:nth-of-type(2)').find('img')['title']\n",
    "    matchday = row.select_one('td:nth-of-type(3)').text.strip()\n",
    "    date = row.select_one('td:nth-of-type(4)').text.strip()\n",
    "    home_team = row.select_one('td:nth-of-type(6)').find('a')['title']\n",
    "    away_team = row.select_one('td:nth-of-type(9)').find('a')['title']\n",
    "    result = row.select_one('td:nth-of-type(13)').find('span').text.strip()\n",
    "    \n",
    "    match_ended_in = 'Extra time' if 'AET' in result else 'Penalties' if 'on pens' in result else 'Main time'\n",
    "    clean_result = result.split(' ')[0]\n",
    "    home_away_results = clean_result.split(':')\n",
    "    home_score = home_away_results[0]\n",
    "    away_score = home_away_results[1]\n",
    "    winner = home_team if home_score > away_score else away_team if home_score < away_score else 'Draw'\n",
    "\n",
    "    data.append([match_id, competition, matchday, date, home_team, away_team, match_ended_in, home_score, away_score, winner])\n",
    "\n",
    "# Store data only for matches up to the match analysed here (28 October 2023)\n",
    "data = data[-254:]\n",
    "\n",
    "# Store collected data in Pandas Dataframe\n",
    "df = pd.DataFrame(data=data, columns=['match_id', 'competition', 'matchday', 'date', 'home_team', 'away_team', 'match_ended_in', 'home_score', 'away_score', 'winner'])\n",
    "df['date'] = pd.to_datetime(df['date'], format='%a, %b %d, %Y').dt.strftime('%Y-%m-%d')\n",
    "df['winner'] = df['winner'].replace({'CF Barcelona': 'FC Barcelona', 'Madrid CF': 'Real Madrid'})\n",
    "\n",
    "# Save data in .csv file format\n",
    "df.to_csv('./data/transfermarkt/general_info.csv', index=False)"
   ],
   "metadata": {
    "collapsed": false,
    "ExecuteTime": {
     "end_time": "2024-01-21T23:28:12.703800Z",
     "start_time": "2024-01-21T23:28:08.379155Z"
    }
   },
   "id": "a4d6b214b9e9ff29",
   "execution_count": 65
  },
  {
   "cell_type": "code",
   "outputs": [],
   "source": [
    "df = pd.read_csv('./data/transfermarkt/general_info.csv')"
   ],
   "metadata": {
    "collapsed": false
   },
   "id": "5404836e4a0ee9d6",
   "execution_count": null
  },
  {
   "cell_type": "code",
   "outputs": [
    {
     "name": "stdout",
     "output_type": "stream",
     "text": [
      "Throughout history, 254 El Clasico have been played\n"
     ]
    }
   ],
   "source": [
    "print(f'Throughout history, {len(df)} El Clasico have been played')"
   ],
   "metadata": {
    "collapsed": false,
    "ExecuteTime": {
     "end_time": "2024-01-21T23:32:36.871681Z",
     "start_time": "2024-01-21T23:32:36.861935Z"
    }
   },
   "id": "e7f98645bb212bf4",
   "execution_count": 69
  },
  {
   "cell_type": "code",
   "outputs": [
    {
     "name": "stdout",
     "output_type": "stream",
     "text": [
      "Real Madrid won 103 times, FC Barcelona 100 times and there were 51 draws\n"
     ]
    },
    {
     "data": {
      "text/plain": "<AxesSubplot:>"
     },
     "execution_count": 79,
     "metadata": {},
     "output_type": "execute_result"
    },
    {
     "data": {
      "text/plain": "<Figure size 640x480 with 1 Axes>",
      "image/png": "[encoded data removed]"
     },
     "metadata": {},
     "output_type": "display_data"
    }
   ],
   "source": [
    "results_history = df['winner'].value_counts()\n",
    "print(f\"Real Madrid won {results_history['Real Madrid']} times, FC Barcelona {results_history['FC Barcelona']} times and there were {results_history['Draw']} draws\")\n",
    "results_history.plot(kind='bar', stacked=True)"
   ],
   "metadata": {
    "collapsed": false,
    "ExecuteTime": {
     "end_time": "2024-01-21T23:41:04.451519Z",
     "start_time": "2024-01-21T23:41:04.334139Z"
    }
   },
   "id": "50dff9c9df816bd8",
   "execution_count": 79
  },
  {
   "cell_type": "code",
   "outputs": [
    {
     "name": "stdout",
     "output_type": "stream",
     "text": [
      "Particularly in LaLiga Real Madrid won 77 times, FC Barcelona 74 times and there were 35 draws\n"
     ]
    },
    {
     "data": {
      "text/plain": "<AxesSubplot:>"
     },
     "execution_count": 80,
     "metadata": {},
     "output_type": "execute_result"
    },
    {
     "data": {
      "text/plain": "<Figure size 640x480 with 1 Axes>",
      "image/png": "[encoded data removed]"
     },
     "metadata": {},
     "output_type": "display_data"
    }
   ],
   "source": [
    "results_history_laliga = df[df.competition == 'LaLiga']['winner'].value_counts()\n",
    "print(f\"Particularly in LaLiga Real Madrid won {results_history_laliga['Real Madrid']} times, FC Barcelona {results_history_laliga['FC Barcelona']} times and there were {results_history_laliga['Draw']} draws\")\n",
    "results_history_laliga.plot(kind='bar', stacked=True)"
   ],
   "metadata": {
    "collapsed": false,
    "ExecuteTime": {
     "end_time": "2024-01-21T23:43:46.168056Z",
     "start_time": "2024-01-21T23:43:46.052851Z"
    }
   },
   "id": "8c4d3958d924d1c",
   "execution_count": 80
  },
  {
   "cell_type": "code",
   "outputs": [
    {
     "name": "stdout",
     "output_type": "stream",
     "text": [
      "In the last 10 matches Real Madrid won 6 times and lost 4 times\n"
     ]
    }
   ],
   "source": [
    "last_10 = df[:10]['winner'].value_counts()\n",
    "print(f\"In the last 10 matches Real Madrid won {last_10['Real Madrid']} times and lost {last_10['FC Barcelona']} times\")"
   ],
   "metadata": {
    "collapsed": false,
    "ExecuteTime": {
     "end_time": "2024-01-21T23:51:20.885425Z",
     "start_time": "2024-01-21T23:51:20.872296Z"
    }
   },
   "id": "b8199d092537d172",
   "execution_count": 83
  },
  {
   "cell_type": "markdown",
   "source": [
    "Tyrone Mings package (TBD)"
   ],
   "metadata": {
    "collapsed": false
   },
   "id": "229eabce3c78e7b4"
  },
  {
   "cell_type": "code",
   "outputs": [],
   "source": [
    "import tyrone_mings as tm"
   ],
   "metadata": {
    "collapsed": false,
    "ExecuteTime": {
     "end_time": "2024-01-21T20:59:54.066312Z",
     "start_time": "2024-01-21T20:59:44.263695Z"
    }
   },
   "id": "15cce2478da079f0",
   "execution_count": 9
  },
  {
   "cell_type": "code",
   "outputs": [],
   "source": [
    "match_url = 'https://www.transfermarkt.com/spielbericht/index/spielbericht/4113124'\n",
    "\n",
    "# response = requests.get(match_url, headers=headers)\n",
    "# soup = BeautifulSoup(response.content, \"html.parser\")\n",
    "final_output_dict = tm.match_pull(match_url=match_url)"
   ],
   "metadata": {
    "collapsed": false
   },
   "id": "5d0bcaf017a469de",
   "execution_count": null
  }
 ],
 "metadata": {
  "kernelspec": {
   "display_name": "Python 3",
   "language": "python",
   "name": "python3"
  },
  "language_info": {
   "codemirror_mode": {
    "name": "ipython",
    "version": 2
   },
   "file_extension": ".py",
   "mimetype": "text/x-python",
   "name": "python",
   "nbconvert_exporter": "python",
   "pygments_lexer": "ipython2",
   "version": "2.7.6"
  }
 },
 "nbformat": 4,
 "nbformat_minor": 5
}
