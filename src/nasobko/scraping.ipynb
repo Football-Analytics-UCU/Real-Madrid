{
 "cells": [
  {
   "cell_type": "code",
   "execution_count": 22,
   "metadata": {},
   "outputs": [],
   "source": [
    "import requests\n",
    "from bs4 import BeautifulSoup\n",
    "import json\n",
    "import mplsoccer\n",
    "\n"
   ]
  },
  {
   "cell_type": "code",
   "execution_count": 22,
   "metadata": {},
   "outputs": [],
   "source": [
    "headers = {\n",
    "    \"User-Agent\": \"Mozilla/5.0 (Windows NT 10.0; Win64; x64) AppleWebKit/537.36 (KHTML, like Gecko) Chrome/91.0.4472.124 Safari/537.36\"\n",
    "}\n",
    "url = \"https://www.whoscored.com/Matches/1734996/Live/Spain-LaLiga-2023-2024-Barcelona-Real-Madrid\""
   ]
  },
  {
   "cell_type": "code",
   "execution_count": 23,
   "metadata": {},
   "outputs": [],
   "source": [
    "# Make the request with headers\n",
    "response = requests.get(url, headers=headers)\n",
    "\n",
    "# Check if the request was successful (status code 200)\n",
    "if response.status_code == 200:\n",
    "    data = response.text\n",
    "    # Now 'data' contains the HTML content of the page\n",
    "else:\n",
    "    print(f\"Failed to retrieve the page. Status code: {response.status_code}\")"
   ]
  },
  {
   "cell_type": "code",
   "execution_count": 24,
   "metadata": {},
   "outputs": [],
   "source": [
    "soup = BeautifulSoup(response.text, 'html.parser')\n"
   ]
  },
  {
   "cell_type": "code",
   "execution_count": 25,
   "metadata": {},
   "outputs": [],
   "source": [
    "element = soup.select_one('script:-soup-contains(\"matchCentreData\")')"
   ]
  },
  {
   "cell_type": "code",
   "execution_count": 26,
   "metadata": {},
   "outputs": [],
   "source": [
    "#print(element.text.split(\"matchCentreData: \")[1].split(\",\\n\")[0].split(\";\")[0])"
   ]
  },
  {
   "cell_type": "markdown",
   "metadata": {},
   "source": [
    "Getting sofascore avg positions"
   ]
  },
  {
   "cell_type": "code",
   "execution_count": 2,
   "metadata": {},
   "outputs": [],
   "source": [
    "headers = {\n",
    "    'authority': 'api.sofascore.com',\n",
    "    'accept': '*/*',\n",
    "    'accept-language': 'uk,ru-RU;q=0.9,ru;q=0.8,en-US;q=0.7,en;q=0.6',\n",
    "    'cache-control': 'max-age=0',\n",
    "    'if-none-match': 'W/\"9f784e861d\"',\n",
    "    'origin': 'https://www.sofascore.com',\n",
    "    'referer': 'https://www.sofascore.com/',\n",
    "    'sec-ch-ua': '\"Not_A Brand\";v=\"8\", \"Chromium\";v=\"120\", \"Google Chrome\";v=\"120\"',\n",
    "    'sec-ch-ua-mobile': '?0',\n",
    "    'sec-ch-ua-platform': '\"Windows\"',\n",
    "    'sec-fetch-dest': 'empty',\n",
    "    'sec-fetch-mode': 'cors',\n",
    "    'sec-fetch-site': 'same-site',\n",
    "    'user-agent': 'Mozilla/5.0 (Windows NT 10.0; Win64; x64) AppleWebKit/537.36 (KHTML, like Gecko) Chrome/120.0.0.0 Safari/537.36',\n",
    "}\n",
    "headers['If-Modified-Since'] = 'Mon, 1 Jan 2024 00:00:00 GMT'\n",
    "response = requests.get('https://api.sofascore.com/api/v1/event/11369369/average-positions', headers=headers)"
   ]
  },
  {
   "cell_type": "code",
   "execution_count": 17,
   "metadata": {},
   "outputs": [
    {
     "name": "stdout",
     "output_type": "stream",
     "text": [
      "11 56.806896551724 13.175862068966\n",
      "7 53.516129032258 47.067741935484\n",
      "32 54.944186046512 30.102325581395\n",
      "9 63.517391304348 47.682608695652\n",
      "14 50.586666666667 73.973333333333\n",
      "18 45.819230769231 43.973076923077\n",
      "27 58.728571428571 74.257142857143\n",
      "1 10.642 46.194\n",
      "22 54.415533980583 62.478640776699\n",
      "5 39.276635514019 74.471962616822\n",
      "15 32.644705882353 43.516470588235\n",
      "6 43.088157894737 37.9\n",
      "2 54.735593220339 18.68813559322\n",
      "3 44.886206896552 88.681034482759\n",
      "4 38.858333333333 18.065476190476\n",
      "14 59.9 45.589473684211\n",
      "11 66.612121212121 56.878787878788\n",
      "10 61.727027027027 48.418918918919\n",
      "23 47.556097560976 88.509756097561\n",
      "2 54.63064516129 20.561290322581\n",
      "4 35.501388888889 68.229166666667\n",
      "15 52.090277777778 33.744444444444\n",
      "17 17.95 56.95\n",
      "22 33.019444444444 36.755555555556\n",
      "7 71.480392156863 81.96862745098\n",
      "8 46.679746835443 75.893670886076\n",
      "25 8.675 52.097916666667\n",
      "12 53.048936170213 80.740425531915\n",
      "18 48.61686746988 49.24578313253\n",
      "5 58.41511627907 65.366279069767\n"
     ]
    }
   ],
   "source": [
    "positions = response.json()\n",
    "\n",
    "for team in response.json():\n",
    "    for player in response.json()[team]:\n",
    "        if 'averageX' in player:\n",
    "            print(player['player']['jerseyNumber'] +\" \" + str(player['averageX'])+\" \"+str(player['averageY']))\n"
   ]
  },
  {
   "cell_type": "code",
   "execution_count": 30,
   "metadata": {},
   "outputs": [],
   "source": [
    "#print(response.json())"
   ]
  },
  {
   "cell_type": "code",
   "execution_count": 31,
   "metadata": {},
   "outputs": [],
   "source": [
    "response_heatmap = requests.get('https://api.sofascore.com/api/v1/event/11369369/player/88625/heatmap', headers=headers) # after player is player id"
   ]
  },
  {
   "cell_type": "code",
   "execution_count": 32,
   "metadata": {},
   "outputs": [],
   "source": [
    "#print(response_heatmap.json())"
   ]
  }
 ],
 "metadata": {
  "kernelspec": {
   "display_name": "Python 3",
   "language": "python",
   "name": "python3"
  },
  "language_info": {
   "codemirror_mode": {
    "name": "ipython",
    "version": 3
   },
   "file_extension": ".py",
   "mimetype": "text/x-python",
   "name": "python",
   "nbconvert_exporter": "python",
   "pygments_lexer": "ipython3",
   "version": "3.11.4"
  }
 },
 "nbformat": 4,
 "nbformat_minor": 2
}
