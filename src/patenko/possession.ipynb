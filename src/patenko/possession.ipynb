{
 "cells": [
  {
   "cell_type": "code",
   "execution_count": 121,
   "id": "38301ec9-314d-4495-85ca-810e79b18fa5",
   "metadata": {},
   "outputs": [],
   "source": [
    "import json\n",
    "import matplotlib.pyplot as plt\n",
    "import pandas as pd\n"
   ]
  },
  {
   "cell_type": "code",
   "execution_count": 2,
   "id": "3e3e7f3b-3105-4c5c-8b9f-6bf8ccb5da1f",
   "metadata": {},
   "outputs": [],
   "source": [
    "with open('../../data/whoscored/data.json', 'r') as file:\n",
    "    data = json.load(file)\n"
   ]
  },
  {
   "cell_type": "code",
   "execution_count": 4,
   "id": "bd62b8db-156c-4052-ae86-8ea183f8809e",
   "metadata": {},
   "outputs": [
    {
     "data": {
      "text/plain": [
       "1653"
      ]
     },
     "execution_count": 4,
     "metadata": {},
     "output_type": "execute_result"
    }
   ],
   "source": [
    "events = [event for event in data['matchCentreData']['events']]\n",
    "len(events)"
   ]
  },
  {
   "cell_type": "code",
   "execution_count": 330,
   "id": "e4e6ab9c-cdf8-4f05-8412-563c62dcbe4d",
   "metadata": {},
   "outputs": [],
   "source": [
    "def calculate_ball_control(df, half, start=None, end=None):\n",
    "    df_half = df[df['period_displayName'] == half]\n",
    "\n",
    "    start_half_time = df_half.iloc[0].minute\n",
    "    end_half_time =  df_half.iloc[-1].minute\n",
    "\n",
    "    print(start_half_time, end_half_time)\n",
    "    \n",
    "    expanded_time = 0\n",
    "    if half == 'SecondHalf':\n",
    "        expanded_time = df_half.iloc[0].expandedMinute - 45\n",
    "        \n",
    "    if start is not None:\n",
    "        print(start, start_half_time)\n",
    "        if start < start_half_time or start > end_half_time:\n",
    "            print(f\"Invalid start time {start}. Half time: ({start_half_time} - {end_half_time})\")\n",
    "            return\n",
    "            \n",
    "        start_time_sec_exp = (start + expanded_time) * 60\n",
    "    else:\n",
    "        start_time_sec_exp = df_half.iloc[0].tot_seconds\n",
    "        \n",
    "    if end is not None:\n",
    "        if end < start_half_time or end > end_half_time or end < start:\n",
    "            print(f\"Invalid end time {end}. Half time: ({start_half_time} - {end_half_time})\")\n",
    "            return\n",
    "            \n",
    "        end_time_sec_exp = (end + expanded_time) * 60\n",
    "    else:\n",
    "        end_time_sec_exp = df_half.iloc[-1].tot_seconds\n",
    "\n",
    "    print(start_time_sec_exp, end_time_sec_exp, (end_time_sec_exp-start_time_sec_exp)/60)\n",
    "        \n",
    "    \n",
    "    control_time_start = start_time_sec_exp\n",
    "    control_team = ''\n",
    "    control_time = {'Barcelona' : 0,\n",
    "                    'Real Madrid' : 0}\n",
    "\n",
    "    for _, row in df_half[df_half['tot_seconds'] > start_time_sec_exp].iterrows():\n",
    "        # Clearance significantly worsen results \n",
    "\n",
    "        if row['tot_seconds'] > end_time_sec_exp:\n",
    "            break\n",
    "        \n",
    "        # Check for events that contribute to ball control\n",
    "        if row['type_displayName'] in ['Pass', 'TakeOn', 'KeeperPickup', 'ShieldBallOpp', 'Dispossessed', 'Save', \n",
    "                                       'Smother', 'BallRecovery', 'ShotOnPost', 'SavedShot', 'BlockedPass', 'BallTouch', 'MissedShots'] \\\n",
    "        or (row['type_displayName'] in ['Challenge', 'Aerial'] and row['outcomeType_displayName'] == 'Successful'):\n",
    "            if control_team != row['team_name']:\n",
    "                if control_team == '':\n",
    "                    control_team = row['team_name']\n",
    "                    control_time_start = row['tot_seconds']\n",
    "                else:\n",
    "                    control_time[control_team] += row['tot_seconds'] - control_time_start\n",
    "                    control_time_start = row['tot_seconds']\n",
    "                    control_team = row['team_name']\n",
    "\n",
    "        if row['type_displayName'] in ['Goal', 'Foul', 'Card', 'CornerAwarded'] \\\n",
    "            and control_team != '' \\\n",
    "            and row['outcomeType_displayName'] == 'Successful':\n",
    "            control_time[control_team] += row['tot_seconds'] - control_time_start\n",
    "            control_time_start = row['tot_seconds']\n",
    "            control_team = ''\n",
    "\n",
    "\n",
    "\n",
    "    control_time[control_team] += end_time_sec_exp - control_time_start\n",
    "\n",
    "    print(control_time)\n",
    "    sec_total = control_time['Barcelona'] + control_time['Real Madrid']\n",
    "    control_time['Barcelona'] = round(control_time['Barcelona'] / sec_total * 100)\n",
    "    control_time['Real Madrid'] = round(control_time['Real Madrid'] / sec_total * 100)\n",
    "    \n",
    "    return control_time \n",
    "        "
   ]
  },
  {
   "cell_type": "code",
   "execution_count": 334,
   "id": "42b44fa5-02cb-4c89-b9ee-39250a15feb1",
   "metadata": {},
   "outputs": [
    {
     "name": "stdout",
     "output_type": "stream",
     "text": [
      "45 96\n",
      "52 45\n",
      "3300 3780 8.0\n",
      "{'Barcelona': 198, 'Real Madrid': 225}\n"
     ]
    },
    {
     "data": {
      "text/plain": [
       "{'Barcelona': 47, 'Real Madrid': 53}"
      ]
     },
     "execution_count": 334,
     "metadata": {},
     "output_type": "execute_result"
    }
   ],
   "source": [
    "calculate_ball_control(events_df, 'SecondHalf', 52, 60)"
   ]
  },
  {
   "cell_type": "code",
   "execution_count": 299,
   "id": "6c72df7e-c9fc-4761-8505-11468a139d8a",
   "metadata": {},
   "outputs": [
    {
     "name": "stdout",
     "output_type": "stream",
     "text": [
      "45 96\n",
      "2880 5944 51.06666666666667\n",
      "{'Barcelona': 1468, 'Real Madrid': 1595}\n"
     ]
    },
    {
     "data": {
      "text/plain": [
       "{'Barcelona': 48, 'Real Madrid': 52}"
      ]
     },
     "execution_count": 299,
     "metadata": {},
     "output_type": "execute_result"
    }
   ],
   "source": [
    "calculate_ball_control(events_df, 'SecondHalf')"
   ]
  },
  {
   "cell_type": "code",
   "execution_count": 74,
   "id": "683743ef-beb9-456b-b313-db0237c64a19",
   "metadata": {},
   "outputs": [
    {
     "data": {
      "text/plain": [
       "2880"
      ]
     },
     "execution_count": 74,
     "metadata": {},
     "output_type": "execute_result"
    }
   ],
   "source": [
    "events_df[events_df['period_displayName'] == 'SecondHalf'].iloc[0].tot_seconds"
   ]
  },
  {
   "cell_type": "code",
   "execution_count": 347,
   "id": "9ba3d797-aa4c-4d5f-ae1a-2d8276edf87f",
   "metadata": {},
   "outputs": [
    {
     "name": "stdout",
     "output_type": "stream",
     "text": [
      "Index(['eventId', 'minute', 'second', 'teamId', 'x', 'y', 'expandedMinute',\n",
      "       'qualifiers', 'satisfiedEventsTypes', 'isTouch', 'period_displayName',\n",
      "       'type_displayName', 'outcomeType_displayName', 'playerId', 'endX',\n",
      "       'endY', 'goalMouthZ', 'goalMouthY', 'isGoal', 'isShot',\n",
      "       'relatedEventId', 'relatedPlayerId', 'blockedX', 'blockedY',\n",
      "       'cardType_displayName', 'team_name', 'tot_seconds'],\n",
      "      dtype='object')\n"
     ]
    }
   ],
   "source": [
    "events_df = pd.DataFrame(pd.json_normalize(events, sep='_'))\n",
    "events_df = events_df.drop(columns=['period_value', 'type_value', 'outcomeType_value', 'cardType_value', 'id'])\n",
    "\n",
    "events_df['team_name'] = ''\n",
    "events_df.loc[events_df['teamId'] == data['matchCentreData']['home']['teamId'], 'team_name'] = 'Barcelona'\n",
    "events_df.loc[events_df['teamId'] == data['matchCentreData']['away']['teamId'], 'team_name'] = 'Real Madrid'\n",
    "\n",
    "events_df.loc[events_df['second'].isna(), 'second'] = 0\n",
    "events_df['tot_seconds'] = events_df.apply(lambda row: int(row['expandedMinute']) * 60 + int(row['second']), axis=1)\n",
    "events_df = events_df.sort_values(by=['tot_seconds'])\n",
    "print(events_df.columns)"
   ]
  },
  {
   "cell_type": "code",
   "execution_count": 343,
   "id": "cdf5931e-2283-4739-900a-ad4c6527b712",
   "metadata": {},
   "outputs": [],
   "source": [
    "def calculate_ball_control(df, half, start=None, end=None):\n",
    "\n",
    "\n",
    "    df_half = df[df['period_displayName'] == half]\n",
    "\n",
    "    start_half_time = df_half.iloc[0].minute\n",
    "    end_half_time =  df_half.iloc[-1].minute\n",
    "\n",
    "    # print(start_half_time, end_half_time)\n",
    "\n",
    "    # 2nd time starts from 45 min, we need to calculate margin from additional time in 1st half\n",
    "    expanded_time = 0\n",
    "    if half == 'SecondHalf':\n",
    "        expanded_time = df_half.iloc[0].expandedMinute - 45\n",
    "        \n",
    "    if start is not None:\n",
    "        # print(start, start_half_time)\n",
    "        if start < start_half_time or start > end_half_time:\n",
    "            print(f\"Invalid start time {start}. Half time: ({start_half_time} - {end_half_time})\")\n",
    "            return\n",
    "            \n",
    "        start_time_sec_exp = (start + expanded_time) * 60\n",
    "    else:\n",
    "        start_time_sec_exp = df_half.iloc[0].tot_seconds\n",
    "        \n",
    "    if end is not None:\n",
    "        if end < start_half_time or end > end_half_time or end < start:\n",
    "            print(f\"Invalid end time {end}. Half time: ({start_half_time} - {end_half_time})\")\n",
    "            return\n",
    "            \n",
    "        end_time_sec_exp = (end + expanded_time) * 60\n",
    "    else:\n",
    "        end_time_sec_exp = df_half.iloc[-1].tot_seconds        \n",
    "    \n",
    "    control_time_start = start_time_sec_exp\n",
    "    control_team = ''\n",
    "    control_time = {'Barcelona' : 0,\n",
    "                    'Real Madrid' : 0}\n",
    "\n",
    "    for _, row in df_half[df_half['tot_seconds'] > start_time_sec_exp].iterrows():\n",
    "        # Clearance significantly worsen results \n",
    "\n",
    "        if row['tot_seconds'] > end_time_sec_exp:\n",
    "            break\n",
    "        # Check for events that contribute to ball control\n",
    "        if row['type_displayName'] in ['Pass', 'TakeOn', 'KeeperPickup', 'ShieldBallOpp', 'Dispossessed', 'Save', \n",
    "                                       'Smother', 'BallRecovery', 'ShotOnPost', 'SavedShot', 'BlockedPass', 'BallTouch', 'MissedShots'] \\\n",
    "        or (row['type_displayName'] in ['Challenge', 'Aerial'] and row['outcomeType_displayName'] == 'Successful'):\n",
    "            if control_team != row['team_name']:\n",
    "                if control_team == '':\n",
    "                    control_team = row['team_name']\n",
    "                    control_time_start = row['tot_seconds']\n",
    "                else:\n",
    "                    control_time[control_team] += row['tot_seconds'] - control_time_start\n",
    "                    control_time_start = row['tot_seconds']\n",
    "                    control_team = row['team_name']\n",
    "        # Check for events that reset ball control\n",
    "        # if row['type_displayName'] in ['Goal', 'Foul', 'Card', 'CornerAwarded'] \\\n",
    "        #     and control_team != '' \\\n",
    "        #     and row['outcomeType_displayName'] == 'Successful':\n",
    "        #     control_time[control_team] += row['tot_seconds'] - control_time_start\n",
    "        #     control_time_start = row['tot_seconds']\n",
    "        #     control_team = ''\n",
    "\n",
    "    control_time[control_team] += end_time_sec_exp - control_time_start\n",
    "\n",
    "    # Calculate and update ball control percentages for each team\n",
    "    sec_total = control_time['Barcelona'] + control_time['Real Madrid']\n",
    "    control_time['Barcelona'] = round(control_time['Barcelona'] / sec_total * 100)\n",
    "    control_time['Real Madrid'] = round(control_time['Real Madrid'] / sec_total * 100)\n",
    "    \n",
    "    return control_time \n",
    "        "
   ]
  },
  {
   "cell_type": "code",
   "execution_count": 345,
   "id": "aa7ddb08-fa2d-4b48-987f-584687c0cdb4",
   "metadata": {},
   "outputs": [
    {
     "data": {
      "text/plain": [
       "{'Barcelona': 55, 'Real Madrid': 45}"
      ]
     },
     "execution_count": 345,
     "metadata": {},
     "output_type": "execute_result"
    }
   ],
   "source": [
    "calculate_ball_control(events_df, 'FirstHalf')"
   ]
  },
  {
   "cell_type": "code",
   "execution_count": 346,
   "id": "97a4f963-96aa-4165-a950-5af6e20e73ea",
   "metadata": {},
   "outputs": [
    {
     "data": {
      "text/plain": [
       "{'Barcelona': 48, 'Real Madrid': 52}"
      ]
     },
     "execution_count": 346,
     "metadata": {},
     "output_type": "execute_result"
    }
   ],
   "source": []
  }
 ],
 "metadata": {
  "kernelspec": {
   "display_name": "Python 3 (ipykernel)",
   "language": "python",
   "name": "python3"
  },
  "language_info": {
   "codemirror_mode": {
    "name": "ipython",
    "version": 3
   },
   "file_extension": ".py",
   "mimetype": "text/x-python",
   "name": "python",
   "nbconvert_exporter": "python",
   "pygments_lexer": "ipython3",
   "version": "3.10.12"
  }
 },
 "nbformat": 4,
 "nbformat_minor": 5
}
