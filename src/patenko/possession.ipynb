{
 "cells": [
  {
   "cell_type": "code",
   "execution_count": 1,
   "id": "38301ec9-314d-4495-85ca-810e79b18fa5",
   "metadata": {},
   "outputs": [],
   "source": [
    "import json\n",
    "import matplotlib.pyplot as plt\n",
    "import pandas as pd\n"
   ]
  },
  {
   "cell_type": "code",
   "execution_count": 2,
   "id": "3e3e7f3b-3105-4c5c-8b9f-6bf8ccb5da1f",
   "metadata": {},
   "outputs": [],
   "source": [
    "with open('../../data/whoscored/data.json', 'r') as file:\n",
    "    data = json.load(file)\n"
   ]
  },
  {
   "cell_type": "code",
   "execution_count": 3,
   "id": "bd62b8db-156c-4052-ae86-8ea183f8809e",
   "metadata": {},
   "outputs": [
    {
     "data": {
      "text/plain": [
       "1653"
      ]
     },
     "execution_count": 3,
     "metadata": {},
     "output_type": "execute_result"
    }
   ],
   "source": [
    "events = [event for event in data['matchCentreData']['events']]\n",
    "len(events)"
   ]
  },
  {
   "cell_type": "code",
   "execution_count": 4,
   "id": "9ba3d797-aa4c-4d5f-ae1a-2d8276edf87f",
   "metadata": {},
   "outputs": [
    {
     "name": "stdout",
     "output_type": "stream",
     "text": [
      "Index(['eventId', 'minute', 'second', 'teamId', 'x', 'y', 'expandedMinute',\n",
      "       'qualifiers', 'satisfiedEventsTypes', 'isTouch', 'period_displayName',\n",
      "       'type_displayName', 'outcomeType_displayName', 'playerId', 'endX',\n",
      "       'endY', 'goalMouthZ', 'goalMouthY', 'isGoal', 'isShot',\n",
      "       'relatedEventId', 'relatedPlayerId', 'blockedX', 'blockedY',\n",
      "       'cardType_displayName', 'team_name', 'tot_seconds'],\n",
      "      dtype='object')\n"
     ]
    }
   ],
   "source": [
    "events_df = pd.DataFrame(pd.json_normalize(events, sep='_'))\n",
    "events_df = events_df.drop(columns=['period_value', 'type_value', 'outcomeType_value', 'cardType_value', 'id'])\n",
    "\n",
    "events_df['team_name'] = ''\n",
    "events_df.loc[events_df['teamId'] == data['matchCentreData']['home']['teamId'], 'team_name'] = 'Barcelona'\n",
    "events_df.loc[events_df['teamId'] == data['matchCentreData']['away']['teamId'], 'team_name'] = 'Real Madrid'\n",
    "\n",
    "events_df.loc[events_df['second'].isna(), 'second'] = 0\n",
    "events_df['tot_seconds'] = events_df.apply(lambda row: int(row['expandedMinute']) * 60 + int(row['second']), axis=1)\n",
    "events_df = events_df.sort_values(by=['tot_seconds'])\n",
    "print(events_df.columns)"
   ]
  },
  {
   "cell_type": "code",
   "execution_count": 5,
   "id": "cdf5931e-2283-4739-900a-ad4c6527b712",
   "metadata": {},
   "outputs": [],
   "source": [
    "def calculate_ball_control(df, half, only_play_time=False, start=None, end=None, debug=False):\n",
    "    # only_play_time=True - time of fauls, substitution, corners, goal celebration is not counted to any of the team.\n",
    "    \n",
    "    df_half = df[df['period_displayName'] == half]\n",
    "\n",
    "    start_half_time = df_half.iloc[0].minute\n",
    "    end_half_time =  df_half.iloc[-1].minute\n",
    "\n",
    "    if debug:\n",
    "        print(f\"{start_half_time=}, {end_half_time=}\")\n",
    "\n",
    "    # 2nd time starts from 45 min, we need to calculate margin from additional time in 1st half\n",
    "    expanded_time = 0\n",
    "    if half == 'SecondHalf':\n",
    "        expanded_time = df_half.iloc[0].expandedMinute - 45\n",
    "        \n",
    "    if start is not None:\n",
    "        if start < start_half_time or start > end_half_time:\n",
    "            print(f\"Invalid start time {start}. Half time: ({start_half_time} - {end_half_time})\")\n",
    "            return\n",
    "            \n",
    "        start_time_sec_exp = (start + expanded_time) * 60\n",
    "    else:\n",
    "        start_time_sec_exp = df_half.iloc[0].tot_seconds\n",
    "        \n",
    "    if end is not None:\n",
    "        if end < start_half_time or end > end_half_time or (start and end < start):\n",
    "            print(f\"Invalid end time {end}. Half time: ({start_half_time} - {end_half_time})\")\n",
    "            return\n",
    "            \n",
    "        end_time_sec_exp = (end + expanded_time) * 60\n",
    "    else:\n",
    "        end_time_sec_exp = df_half.iloc[-1].tot_seconds        \n",
    "    \n",
    "    control_time_start = start_time_sec_exp\n",
    "    control_team = ''\n",
    "    control_time = {'Barcelona' : 0,\n",
    "                    'Real Madrid' : 0}\n",
    "    if debug:\n",
    "        print(f\"true minutes start end {start_time_sec_exp/60}, {end_time_sec_exp/60}\")\n",
    "    for _, row in df_half[df_half['tot_seconds'] > start_time_sec_exp].iterrows():\n",
    "        # Clearance significantly worsen results \n",
    "\n",
    "        if row['tot_seconds'] > end_time_sec_exp:\n",
    "            break\n",
    "        # Check for events that contribute to ball control\n",
    "        if row['type_displayName'] in ['Pass', 'TakeOn', 'KeeperPickup', 'ShieldBallOpp', 'Dispossessed', 'Save', \n",
    "                                        'Smother', 'BallRecovery', 'ShotOnPost', 'SavedShot', 'BallTouch', \n",
    "                                        'MissedShots', 'Challenge', 'Aerial'] and row['outcomeType_displayName'] == 'Successful':\n",
    "            if control_team != row['team_name']:\n",
    "                if control_team == '':\n",
    "                    control_team = row['team_name']\n",
    "                    control_time_start = row['tot_seconds']\n",
    "                else:\n",
    "                    if debug:\n",
    "                        print(f\"({row['minute']}:{row['second']}) event: {row['type_displayName']}, team {control_team} receives {row['tot_seconds'] - control_time_start} sec\")\n",
    "                    control_time[control_team] += row['tot_seconds'] - control_time_start\n",
    "                    control_time_start = row['tot_seconds']\n",
    "                    control_team = row['team_name']\n",
    "        \n",
    "        # Check for events that reset ball control\n",
    "        if only_play_time:\n",
    "            if row['type_displayName'] in ['Foul', 'Card', 'CornerAwarded', 'SubstitutionOn', 'SubstitutionOff'] \\\n",
    "                and control_team != '' \\\n",
    "                and row['outcomeType_displayName'] == 'Successful':\n",
    "                if debug:\n",
    "                    print(f\"({row['minute']}:{row['second']}) event: {row['type_displayName']}, team {control_team} receives {row['tot_seconds'] - control_time_start} sec\")\n",
    "    \n",
    "                control_time[control_team] += row['tot_seconds'] - control_time_start\n",
    "                control_time_start = row['tot_seconds']\n",
    "                control_team = ''\n",
    "\n",
    "    if control_team:\n",
    "        if debug:\n",
    "            print(f\"(end) team {control_team} receives {end_time_sec_exp - control_time_start} sec\")\n",
    "        control_time[control_team] += end_time_sec_exp - control_time_start\n",
    "\n",
    "\n",
    "    # Calculate and update ball control percentages for each team\n",
    "\n",
    "    sec_total = control_time['Barcelona'] + control_time['Real Madrid']\n",
    "    if debug:\n",
    "        print(sec_total/60, control_time)\n",
    "    control_time['Barcelona'] = round(control_time['Barcelona'] / sec_total * 100)\n",
    "    control_time['Real Madrid'] = round(control_time['Real Madrid'] / sec_total * 100)\n",
    "    \n",
    "    return control_time \n",
    "        "
   ]
  },
  {
   "cell_type": "code",
   "execution_count": 6,
   "id": "aa7ddb08-fa2d-4b48-987f-584687c0cdb4",
   "metadata": {},
   "outputs": [
    {
     "data": {
      "text/plain": [
       "{'Barcelona': 56, 'Real Madrid': 44}"
      ]
     },
     "execution_count": 6,
     "metadata": {},
     "output_type": "execute_result"
    }
   ],
   "source": [
    "calculate_ball_control(events_df, 'FirstHalf')"
   ]
  },
  {
   "cell_type": "code",
   "execution_count": 7,
   "id": "97a4f963-96aa-4165-a950-5af6e20e73ea",
   "metadata": {},
   "outputs": [
    {
     "data": {
      "text/plain": [
       "{'Barcelona': 46, 'Real Madrid': 54}"
      ]
     },
     "execution_count": 7,
     "metadata": {},
     "output_type": "execute_result"
    }
   ],
   "source": [
    "calculate_ball_control(events_df, 'SecondHalf')"
   ]
  },
  {
   "cell_type": "code",
   "execution_count": 8,
   "id": "daf27888-195d-4c23-a672-ea9802cb8cc3",
   "metadata": {},
   "outputs": [
    {
     "data": {
      "text/plain": [
       "{'Barcelona': 56, 'Real Madrid': 44}"
      ]
     },
     "execution_count": 8,
     "metadata": {},
     "output_type": "execute_result"
    }
   ],
   "source": [
    "calculate_ball_control(events_df, 'FirstHalf', only_play_time=True)"
   ]
  },
  {
   "cell_type": "code",
   "execution_count": 9,
   "id": "654c8491-ad7d-40b4-8702-ed671c1a7dc5",
   "metadata": {},
   "outputs": [
    {
     "data": {
      "text/plain": [
       "{'Barcelona': 49, 'Real Madrid': 51}"
      ]
     },
     "execution_count": 9,
     "metadata": {},
     "output_type": "execute_result"
    }
   ],
   "source": [
    "calculate_ball_control(events_df, 'SecondHalf', only_play_time=True)"
   ]
  },
  {
   "cell_type": "code",
   "execution_count": 10,
   "id": "ad8af850-6b99-4276-932c-c50f3a122821",
   "metadata": {},
   "outputs": [
    {
     "data": {
      "text/plain": [
       "{'Barcelona': 51.0, 'Real Madrid': 49.0}"
      ]
     },
     "execution_count": 10,
     "metadata": {},
     "output_type": "execute_result"
    }
   ],
   "source": [
    "# total:\n",
    "fh = calculate_ball_control(events_df, 'FirstHalf')\n",
    "sh = calculate_ball_control(events_df, 'SecondHalf')\n",
    "control_time_total = {'Barcelona' : (fh['Barcelona'] + sh['Barcelona']) / 2,\n",
    "                      'Real Madrid' : (fh['Real Madrid'] + sh['Real Madrid']) / 2}\n",
    "control_time_total"
   ]
  },
  {
   "cell_type": "markdown",
   "id": "21c6eb1f-b3d6-4a61-99b9-4b90da0cb544",
   "metadata": {},
   "source": [
    "# Visualization"
   ]
  },
  {
   "cell_type": "code",
   "execution_count": 11,
   "id": "ff4a7a4b-7356-47fa-8ce4-6f1c55bffced",
   "metadata": {},
   "outputs": [],
   "source": [
    "# function is taken from src/korotkova/rm_barca_main_stat.ipynb\n",
    "\n",
    "import numpy as np\n",
    "import re\n",
    "\n",
    "def show_stats_data(data: dict):\n",
    "    labels = list(data.keys())\n",
    "    values = list(data.values())\n",
    "\n",
    "    def extract_numeric(value):\n",
    "        if isinstance(value, str):\n",
    "            # Extract numeric part using regular expression\n",
    "            numeric_part = re.search(r'\\d+(\\.\\d+)?', value)\n",
    "            if numeric_part:\n",
    "                return float(numeric_part.group())\n",
    "        return float(value)\n",
    "\n",
    "    float_values = [[extract_numeric(value)\n",
    "                    for value in sublist] for sublist in values]\n",
    "\n",
    "    first_team = [el[0] for el in float_values]\n",
    "    second_team = [el[1] for el in float_values]\n",
    "    fig, ax = plt.subplots(figsize=(10, 6))\n",
    "\n",
    "    sum_team = [first_team[i] + second_team[i]\n",
    "                for i in range(min(len(first_team), len(second_team)))]\n",
    "\n",
    "    first_team_normalized = [first_team[i] * 100 / sum_team[i]\n",
    "                             for i in range(min(len(first_team), len(sum_team)))]\n",
    "    second_team_normalized = [second_team[i] * 100 / sum_team[i]\n",
    "                              for i in range(min(len(second_team), len(sum_team)))]\n",
    "\n",
    "    p1 = ax.barh(labels, [-val for val in first_team_normalized],\n",
    "                 color='indianred', label='Barcelona', height=0.5)\n",
    "    p2 = ax.barh(labels, second_team_normalized,\n",
    "                 color='skyblue', label='Real Madrid',  height=0.5)\n",
    "\n",
    "    for rect in p1:\n",
    "        width = rect.get_width()\n",
    "        ax.text(width, rect.get_y() + rect.get_height() / 2,\n",
    "                f'{first_team[p1.index(rect)]}', ha='right', va='center')\n",
    "\n",
    "    for rect in p2:\n",
    "        width = rect.get_width()\n",
    "        ax.text(width, rect.get_y() + rect.get_height() / 2,\n",
    "                f'{second_team[p2.index(rect)]}', ha='left', va='center')\n",
    "\n",
    "    ax.legend(loc='best',)\n",
    "    ax.set_xticks([])\n",
    "    plt.show()"
   ]
  },
  {
   "cell_type": "markdown",
   "id": "ce7b7caa-a503-41f0-af27-076f230f3ae1",
   "metadata": {},
   "source": [
    "## Non-play time is considered (substitution, corner, foul)"
   ]
  },
  {
   "cell_type": "code",
   "execution_count": 12,
   "id": "b51d640f-4187-40f7-96b9-10bc0640d2b4",
   "metadata": {},
   "outputs": [],
   "source": [
    "fh = calculate_ball_control(events_df, 'FirstHalf')\n",
    "sh_start_52 = calculate_ball_control(events_df, 'SecondHalf', end=52) #end minute is not including\n",
    "sh_52_63 = calculate_ball_control(events_df, 'SecondHalf', start=52, end=63)\n",
    "sh_63_78 = calculate_ball_control(events_df, 'SecondHalf', start=63, end=78)\n",
    "sh_78_end = calculate_ball_control(events_df, 'SecondHalf', start=78)\n",
    "\n",
    "possession_stats = {'78 min - end match' : [sh_78_end['Barcelona'], sh_78_end['Real Madrid']],\n",
    "                    '63 min - 78 min' : [sh_63_78['Barcelona'], sh_63_78['Real Madrid']],\n",
    "                    '52 min - 63 min' : [sh_52_63['Barcelona'], sh_52_63['Real Madrid']],\n",
    "                    '2nd half start - 52 min' : [sh_start_52['Barcelona'], sh_start_52['Real Madrid']],\n",
    "                    '1st half' : [fh['Barcelona'], fh['Real Madrid']],\n",
    "}"
   ]
  },
  {
   "cell_type": "code",
   "execution_count": 13,
   "id": "e0ac07ac-4ace-4feb-8eb9-046cf03e8ceb",
   "metadata": {},
   "outputs": [
    {
     "data": {
      "image/png": "[encoded data removed]",
      "text/plain": [
       "<Figure size 1000x600 with 1 Axes>"
      ]
     },
     "metadata": {},
     "output_type": "display_data"
    }
   ],
   "source": [
    "show_stats_data(possession_stats)"
   ]
  },
  {
   "cell_type": "markdown",
   "id": "9468821b-e07d-401e-bf5c-93d610da74d3",
   "metadata": {},
   "source": [
    "## Only play time is considered\n",
    "(skip time after, foul, card, corner, substitution untill first event with the ball)"
   ]
  },
  {
   "cell_type": "code",
   "execution_count": 14,
   "id": "22cc16a5-dbd5-4334-91f7-d5c95fc6592a",
   "metadata": {},
   "outputs": [],
   "source": [
    "fh = calculate_ball_control(events_df, 'FirstHalf', only_play_time=True)\n",
    "sh_start_52 = calculate_ball_control(events_df, 'SecondHalf', only_play_time=True, end=52) #end minute is not including\n",
    "sh_52_63 = calculate_ball_control(events_df, 'SecondHalf', only_play_time=True, start=52, end=63)\n",
    "sh_63_78 = calculate_ball_control(events_df, 'SecondHalf', only_play_time=True, start=63, end=78)\n",
    "sh_78_end = calculate_ball_control(events_df, 'SecondHalf', only_play_time=True, start=78)\n",
    "\n",
    "possession_stats = {'78 min - end match' : [sh_78_end['Barcelona'], sh_78_end['Real Madrid']],\n",
    "                    '63 min - 78 min' : [sh_63_78['Barcelona'], sh_63_78['Real Madrid']],\n",
    "                    '52 min - 63 min' : [sh_52_63['Barcelona'], sh_52_63['Real Madrid']],\n",
    "                    '2nd half start - 52 min' : [sh_start_52['Barcelona'], sh_start_52['Real Madrid']],\n",
    "                    '1st half' : [fh['Barcelona'], fh['Real Madrid']],\n",
    "}"
   ]
  },
  {
   "cell_type": "code",
   "execution_count": 15,
   "id": "8a7fe70d-7dc1-47cc-9ae6-937cb1426bb8",
   "metadata": {},
   "outputs": [
    {
     "data": {
      "image/png": "[encoded data removed]",
      "text/plain": [
       "<Figure size 1000x600 with 1 Axes>"
      ]
     },
     "metadata": {},
     "output_type": "display_data"
    }
   ],
   "source": [
    "show_stats_data(possession_stats)"
   ]
  }
 ],
 "metadata": {
  "kernelspec": {
   "display_name": "Python 3 (ipykernel)",
   "language": "python",
   "name": "python3"
  },
  "language_info": {
   "codemirror_mode": {
    "name": "ipython",
    "version": 3
   },
   "file_extension": ".py",
   "mimetype": "text/x-python",
   "name": "python",
   "nbconvert_exporter": "python",
   "pygments_lexer": "ipython3",
   "version": "3.10.12"
  }
 },
 "nbformat": 4,
 "nbformat_minor": 5
}
